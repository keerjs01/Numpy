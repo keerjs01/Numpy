{
 "cells": [
  {
   "cell_type": "code",
   "execution_count": null,
   "id": "43664b7c",
   "metadata": {},
   "outputs": [],
   "source": [
    "#numpy --> eg ludo game (creating random numbers from (1 to 6) by using numpy random function)"
   ]
  },
  {
   "cell_type": "code",
   "execution_count": null,
   "id": "3539ab3f",
   "metadata": {},
   "outputs": [],
   "source": [
    "#FUNCTIONS | Built-in Methods\n",
    "\n",
    "#arange   --> if you need a number in some range\n",
    "#zeros    --> if you need the numbers in ZEROS \n",
    "#ones     --> if you need the numbers in ones\n",
    "#linspace --> it will generate a number in seperate interval of time\n",
    "#eye      --> it will create a identity matrix by using eye\n",
    "#Random   --> rand / randn / randint   (random is used to create a random numbers)\n",
    "#random.rand ---> create a random numbers by giving range eg: np.random.rand(4) / matrix number eg: np.radom.rand(5,5) (eg : ludo)\n",
    "#random.randn --> create a numbers by using standard normal distribution\n",
    "#random.rantint --> random numbers from low(inclusive) and high(exclusive)\n",
    "#reshape\n",
    "#max,min,argmax,argmin (max and min --> provides maximum and minimum num)\n",
    "#argmax,argmin --> this will give the index number\n",
    "#indexing and selection\n",
    "#Broadcasting (normally broadcasting features will not be there in  the list, but we have oin numpy thats one advantage)\n",
    "\n",
    "#Broadcast - means setting the value with index range\n",
    "#copy()  --> to copy some data in array (to avoid slicing issues) -->check the example in below code\n",
    "\n",
    "#Arithmetic Function\n",
    "---------------------\n",
    "\n",
    "#np.sqrt() --> square root\n",
    "#np.exp() -->  calculating exponential (e^)\n",
    "\n",
    "#Practices\n",
    "----------\n",
    "\n",
    "#create an array of 10 zeros & ones\n",
    "#create an array of 10 fives\n",
    "#create an array of the integers from 10 to 50\n",
    "#create an array of all even numbers from 10 to 50\n",
    "#create a 3x3 matrics with value range 0 to 8.\n",
    "#create a 3x3 identity matrix\n",
    "#generate a random numbers between 0 & 1\n",
    "#generate 25 random numbers from a std(standard normal distribution)\n",
    "#create a array 20 line spaced points b/w 0 & 1\n",
    "\n",
    "#Note : in numpy we have a function called (ndarray)  ---> which is 5o times faster than list, also numpy arrays are stored in continuous place in memory but list doesnt\n",
    "\n",
    "\n",
    "\n",
    "\n"
   ]
  },
  {
   "cell_type": "code",
   "execution_count": 1,
   "id": "139d72f4",
   "metadata": {},
   "outputs": [
    {
     "data": {
      "text/plain": [
       "array([0, 1, 2, 3, 4, 5, 6, 7, 8, 9])"
      ]
     },
     "execution_count": 1,
     "metadata": {},
     "output_type": "execute_result"
    }
   ],
   "source": [
    "#arange\n",
    "\n",
    "import numpy as np\n",
    "\n",
    "a = np.arange(0,10)\n",
    "a"
   ]
  },
  {
   "cell_type": "code",
   "execution_count": 2,
   "id": "50bb15d7",
   "metadata": {},
   "outputs": [
    {
     "data": {
      "text/plain": [
       "array([0., 0., 0.])"
      ]
     },
     "execution_count": 2,
     "metadata": {},
     "output_type": "execute_result"
    }
   ],
   "source": [
    "#zeros and ones\n",
    "\n",
    "b = np.zeros(3)\n",
    "b\n"
   ]
  },
  {
   "cell_type": "code",
   "execution_count": 8,
   "id": "1f6fd5a1",
   "metadata": {},
   "outputs": [
    {
     "data": {
      "text/plain": [
       "array([[0., 0., 0., 0., 0.],\n",
       "       [0., 0., 0., 0., 0.],\n",
       "       [0., 0., 0., 0., 0.],\n",
       "       [0., 0., 0., 0., 0.],\n",
       "       [0., 0., 0., 0., 0.]])"
      ]
     },
     "execution_count": 8,
     "metadata": {},
     "output_type": "execute_result"
    }
   ],
   "source": [
    "b = np.zeros((5,5))\n",
    "b"
   ]
  },
  {
   "cell_type": "code",
   "execution_count": 9,
   "id": "0d4ef830",
   "metadata": {},
   "outputs": [
    {
     "data": {
      "text/plain": [
       "array([1., 1., 1., 1., 1.])"
      ]
     },
     "execution_count": 9,
     "metadata": {},
     "output_type": "execute_result"
    }
   ],
   "source": [
    "c = np.ones(5)\n",
    "c"
   ]
  },
  {
   "cell_type": "code",
   "execution_count": 10,
   "id": "3d800770",
   "metadata": {},
   "outputs": [
    {
     "data": {
      "text/plain": [
       "array([[1., 1., 1.],\n",
       "       [1., 1., 1.],\n",
       "       [1., 1., 1.]])"
      ]
     },
     "execution_count": 10,
     "metadata": {},
     "output_type": "execute_result"
    }
   ],
   "source": [
    "\n",
    "c = np.ones((3,3))\n",
    "c"
   ]
  },
  {
   "cell_type": "code",
   "execution_count": 11,
   "id": "cd425c73",
   "metadata": {},
   "outputs": [
    {
     "data": {
      "text/plain": [
       "array([ 1. ,  5.5, 10. ])"
      ]
     },
     "execution_count": 11,
     "metadata": {},
     "output_type": "execute_result"
    }
   ],
   "source": [
    "#linspace\n",
    "\n",
    "a = np.linspace(1,10,3)\n",
    "a\n",
    "\n",
    "#(number will generate from 1 to 10 , space will split of 3)"
   ]
  },
  {
   "cell_type": "code",
   "execution_count": 4,
   "id": "e6feba5e",
   "metadata": {},
   "outputs": [
    {
     "data": {
      "text/plain": [
       "array([[1., 0., 0.],\n",
       "       [0., 1., 0.],\n",
       "       [0., 0., 1.]])"
      ]
     },
     "execution_count": 4,
     "metadata": {},
     "output_type": "execute_result"
    }
   ],
   "source": [
    "#eye\n",
    "\n",
    "a = np.eye(3)\n",
    "a"
   ]
  },
  {
   "cell_type": "code",
   "execution_count": 15,
   "id": "79288370",
   "metadata": {},
   "outputs": [
    {
     "data": {
      "text/plain": [
       "array([0.8298809 , 0.37409464, 0.57586652, 0.45559833])"
      ]
     },
     "execution_count": 15,
     "metadata": {},
     "output_type": "execute_result"
    }
   ],
   "source": [
    "#random\n",
    "#random.rand\n",
    "#random.randn\n",
    "#random.randint\n",
    "\n",
    "a = np.random.rand(4)\n",
    "a"
   ]
  },
  {
   "cell_type": "code",
   "execution_count": 16,
   "id": "162444cf",
   "metadata": {},
   "outputs": [
    {
     "data": {
      "text/plain": [
       "array([[0.06122407, 0.99324688, 0.17183739, 0.64207737, 0.49350037],\n",
       "       [0.55896586, 0.5968891 , 0.95638231, 0.19606308, 0.14993493],\n",
       "       [0.49211592, 0.32872539, 0.76314022, 0.20018152, 0.00988852],\n",
       "       [0.67685309, 0.09789209, 0.60880188, 0.5624162 , 0.1079484 ],\n",
       "       [0.8791438 , 0.51659276, 0.69780672, 0.66643003, 0.65505717]])"
      ]
     },
     "execution_count": 16,
     "metadata": {},
     "output_type": "execute_result"
    }
   ],
   "source": [
    "a = np.random.rand(5,5)\n",
    "a"
   ]
  },
  {
   "cell_type": "code",
   "execution_count": 17,
   "id": "3b88a6a0",
   "metadata": {},
   "outputs": [
    {
     "data": {
      "text/plain": [
       "array([-1.52728302, -0.69645998,  0.39009194,  0.54883217])"
      ]
     },
     "execution_count": 17,
     "metadata": {},
     "output_type": "execute_result"
    }
   ],
   "source": [
    "b = np.random.randn(4)\n",
    "b"
   ]
  },
  {
   "cell_type": "code",
   "execution_count": 19,
   "id": "d6e7be4b",
   "metadata": {},
   "outputs": [
    {
     "data": {
      "text/plain": [
       "array([[ 0.31483805, -0.59689246, -1.59709101,  1.19025168,  0.95917377],\n",
       "       [-0.06629584, -0.76650278, -0.56964985, -0.71059851,  0.3056429 ],\n",
       "       [ 0.51841269, -1.18196368,  1.4197658 , -0.18839865,  0.97469065],\n",
       "       [ 2.40127599, -0.58524418, -0.08205151,  0.00727574, -0.16332486],\n",
       "       [-2.55555269, -1.22658167, -2.41653874,  0.53748033, -0.92334218]])"
      ]
     },
     "execution_count": 19,
     "metadata": {},
     "output_type": "execute_result"
    }
   ],
   "source": [
    "b = np.random.randn(5,5)\n",
    "b"
   ]
  },
  {
   "cell_type": "code",
   "execution_count": 6,
   "id": "73467fc6",
   "metadata": {},
   "outputs": [
    {
     "data": {
      "text/plain": [
       "3"
      ]
     },
     "execution_count": 6,
     "metadata": {},
     "output_type": "execute_result"
    }
   ],
   "source": [
    "#randint --> see the below example \n",
    "\n",
    "c = np.random.randint(1,7)\n",
    "c"
   ]
  },
  {
   "cell_type": "code",
   "execution_count": 21,
   "id": "2209fca6",
   "metadata": {},
   "outputs": [
    {
     "data": {
      "text/plain": [
       "array([2, 3, 1, 3, 2, 5, 2, 2, 5, 3])"
      ]
     },
     "execution_count": 21,
     "metadata": {},
     "output_type": "execute_result"
    }
   ],
   "source": [
    "c = np.random.randint(1,6,10)   #i want numbers 1 to 6 , but need 10 times\n",
    "c"
   ]
  },
  {
   "cell_type": "code",
   "execution_count": 11,
   "id": "33db2c4d",
   "metadata": {},
   "outputs": [
    {
     "data": {
      "text/plain": [
       "array([ 0,  1,  2,  3,  4,  5,  6,  7,  8,  9, 10, 11, 12, 13, 14, 15, 16,\n",
       "       17, 18, 19, 20, 21, 22, 23, 24])"
      ]
     },
     "execution_count": 11,
     "metadata": {},
     "output_type": "execute_result"
    }
   ],
   "source": [
    "#Array attributes and methods\n",
    "\n",
    "a = np.arange(25)\n",
    "a"
   ]
  },
  {
   "cell_type": "code",
   "execution_count": 23,
   "id": "103872e7",
   "metadata": {},
   "outputs": [
    {
     "data": {
      "text/plain": [
       "array([41, 39, 30, 37, 43, 43,  5, 26, 24,  7])"
      ]
     },
     "execution_count": 23,
     "metadata": {},
     "output_type": "execute_result"
    }
   ],
   "source": [
    "an = np.random.randint(0,50,10)\n",
    "an"
   ]
  },
  {
   "cell_type": "code",
   "execution_count": 12,
   "id": "75252dfb",
   "metadata": {},
   "outputs": [
    {
     "data": {
      "text/plain": [
       "array([[ 0,  1,  2,  3,  4],\n",
       "       [ 5,  6,  7,  8,  9],\n",
       "       [10, 11, 12, 13, 14],\n",
       "       [15, 16, 17, 18, 19],\n",
       "       [20, 21, 22, 23, 24]])"
      ]
     },
     "execution_count": 12,
     "metadata": {},
     "output_type": "execute_result"
    }
   ],
   "source": [
    "d = a.reshape(5,5)\n",
    "d"
   ]
  },
  {
   "cell_type": "code",
   "execution_count": 13,
   "id": "1b2168bd",
   "metadata": {},
   "outputs": [
    {
     "name": "stdout",
     "output_type": "stream",
     "text": [
      "[1 3 4 2 6 7 8 4 5]\n",
      "8\n",
      "1\n",
      "6\n",
      "0\n"
     ]
    }
   ],
   "source": [
    "#max,min,argmax,argmin\n",
    "a = np.array([1,3,4,2,6,7,8,4,5])\n",
    "print(a)\n",
    "b = np.max(a)\n",
    "c = np.min(a)\n",
    "d = np.argmax(a)\n",
    "e = np.argmin(a)\n",
    "\n",
    "print(b)\n",
    "print(c)\n",
    "print(d)\n",
    "print(e)"
   ]
  },
  {
   "cell_type": "code",
   "execution_count": 17,
   "id": "e6802d6c",
   "metadata": {},
   "outputs": [
    {
     "name": "stdout",
     "output_type": "stream",
     "text": [
      "[0 1 2 3 4 5 6 7 8 9]\n"
     ]
    },
    {
     "data": {
      "text/plain": [
       "array([1000, 1000, 1000, 1000,    4,    5,    6,    7,    8,    9])"
      ]
     },
     "execution_count": 17,
     "metadata": {},
     "output_type": "execute_result"
    }
   ],
   "source": [
    "#broadcasting\n",
    "a = np.arange(10)\n",
    "print(a)\n",
    "\n",
    "a[0:4] = 1000\n",
    "a"
   ]
  },
  {
   "cell_type": "code",
   "execution_count": 52,
   "id": "0cd2c907",
   "metadata": {},
   "outputs": [
    {
     "name": "stdout",
     "output_type": "stream",
     "text": [
      "[0 1 2 3 4 5 6 7 8 9]\n",
      "[0 1 2 3]\n",
      "[777 777 777 777]\n",
      "[777 777 777 777   4   5   6   7   8   9]\n"
     ]
    }
   ],
   "source": [
    "# slicing --> problem example\n",
    "\n",
    "a = np.arange(10)\n",
    "print(a)\n",
    "\n",
    "s = a[0:4]     # here i need 0 to 4 index values and saving that to \"s\"\n",
    "print(s)\n",
    "\n",
    "s[:] = 777       # here i am going to replace with \"777\" number in \"S\"\n",
    "print(s)\n",
    "\n",
    "print(a)      # but when i check in main array, this is also changes , hence to overcome this we are using \"copy()\" method, which does not affect main array\n",
    "\n",
    "#copy()\n",
    "\n"
   ]
  },
  {
   "cell_type": "code",
   "execution_count": 56,
   "id": "6dc41044",
   "metadata": {},
   "outputs": [
    {
     "name": "stdout",
     "output_type": "stream",
     "text": [
      "[0 1 2 3 4 5 6 7 8 9]\n",
      "[0 1 2 3]\n",
      "[333 333 333 333]\n",
      "[0 1 2 3 4 5 6 7 8 9]\n"
     ]
    }
   ],
   "source": [
    "#copy()\n",
    "\n",
    "a = np.arange(10)\n",
    "print(a)\n",
    "\n",
    "s = a[0:4].copy()\n",
    "print(s)\n",
    "\n",
    "s[:] = 333\n",
    "print(s)\n",
    "\n",
    "print(a)"
   ]
  },
  {
   "cell_type": "code",
   "execution_count": 57,
   "id": "b7e2e29e",
   "metadata": {},
   "outputs": [
    {
     "name": "stdout",
     "output_type": "stream",
     "text": [
      "[ 0  1  2  3  4  5  6  7  8  9 10]\n",
      "[  0   1   4   9  16  25  36  49  64  81 100]\n",
      "[ 0  2  4  6  8 10 12 14 16 18 20]\n",
      "[nan  1.  1.  1.  1.  1.  1.  1.  1.  1.  1.]\n",
      "[   0    1    8   27   64  125  216  343  512  729 1000]\n"
     ]
    },
    {
     "name": "stderr",
     "output_type": "stream",
     "text": [
      "C:\\Users\\Athiban\\AppData\\Local\\Temp/ipykernel_20472/1627726123.py:11: RuntimeWarning: invalid value encountered in true_divide\n",
      "  print(c/c)\n"
     ]
    }
   ],
   "source": [
    "#Arithmetic operation \n",
    "\n",
    "#can't be performed these in LIST so easily\n",
    "#but you can do it in NUMPY easily\n",
    "\n",
    "c = np.arange(0,11)\n",
    "print(c)\n",
    "\n",
    "print(c*c)      #it will work\n",
    "print(c+c)      #it will work\n",
    "print(c/c)      #output will come but this will throw error / wraning as the data has \"0\" values , anything/0 = infininity (so it will give error)\n",
    "print(c ** 3)   #o/p will come , but this will throw error / wraning as the data has \"0\" values , anything/0 = infininity (so it will give error)\n"
   ]
  },
  {
   "cell_type": "code",
   "execution_count": 58,
   "id": "6457f52b",
   "metadata": {},
   "outputs": [
    {
     "data": {
      "text/plain": [
       "array([0.        , 1.        , 1.41421356, 1.73205081, 2.        ,\n",
       "       2.23606798, 2.44948974, 2.64575131, 2.82842712, 3.        ,\n",
       "       3.16227766])"
      ]
     },
     "execution_count": 58,
     "metadata": {},
     "output_type": "execute_result"
    }
   ],
   "source": [
    "np.sqrt(c)"
   ]
  },
  {
   "cell_type": "code",
   "execution_count": 59,
   "id": "4a6c4b7c",
   "metadata": {},
   "outputs": [
    {
     "data": {
      "text/plain": [
       "array([1.00000000e+00, 2.71828183e+00, 7.38905610e+00, 2.00855369e+01,\n",
       "       5.45981500e+01, 1.48413159e+02, 4.03428793e+02, 1.09663316e+03,\n",
       "       2.98095799e+03, 8.10308393e+03, 2.20264658e+04])"
      ]
     },
     "execution_count": 59,
     "metadata": {},
     "output_type": "execute_result"
    }
   ],
   "source": [
    "np.exp(c)"
   ]
  },
  {
   "cell_type": "code",
   "execution_count": 60,
   "id": "f84328f1",
   "metadata": {},
   "outputs": [
    {
     "name": "stdout",
     "output_type": "stream",
     "text": [
      "[0. 0. 0. 0. 0. 0. 0. 0. 0. 0.]\n",
      "[1. 1. 1. 1. 1. 1. 1. 1. 1. 1.]\n"
     ]
    }
   ],
   "source": [
    "#practice\n",
    "\n",
    "#create an array of 10 zeros and ones\n",
    "\n",
    "p = np.zeros(10)\n",
    "print(p)\n",
    "\n",
    "p_1 = np.ones(10)\n",
    "print(p_1)"
   ]
  },
  {
   "cell_type": "code",
   "execution_count": 19,
   "id": "4e5e4ff5",
   "metadata": {},
   "outputs": [
    {
     "data": {
      "text/plain": [
       "array([5., 5., 5., 5., 5., 5., 5., 5., 5., 5.])"
      ]
     },
     "execution_count": 19,
     "metadata": {},
     "output_type": "execute_result"
    }
   ],
   "source": [
    "#create an array of 10 fives\n",
    "\n",
    "p = np.ones(10) * 5\n",
    "p"
   ]
  },
  {
   "cell_type": "code",
   "execution_count": 62,
   "id": "e54d6b26",
   "metadata": {},
   "outputs": [
    {
     "data": {
      "text/plain": [
       "array([10, 11, 12, 13, 14, 15, 16, 17, 18, 19, 20, 21, 22, 23, 24, 25, 26,\n",
       "       27, 28, 29, 30, 31, 32, 33, 34, 35, 36, 37, 38, 39, 40, 41, 42, 43,\n",
       "       44, 45, 46, 47, 48, 49, 50])"
      ]
     },
     "execution_count": 62,
     "metadata": {},
     "output_type": "execute_result"
    }
   ],
   "source": [
    "#create an array of the integers 10 to 50\n",
    "\n",
    "p = np.arange(10,51)\n",
    "p"
   ]
  },
  {
   "cell_type": "code",
   "execution_count": 63,
   "id": "571b86d3",
   "metadata": {},
   "outputs": [
    {
     "data": {
      "text/plain": [
       "array([10, 12, 14, 16, 18, 20, 22, 24, 26, 28, 30, 32, 34, 36, 38, 40, 42,\n",
       "       44, 46, 48, 50])"
      ]
     },
     "execution_count": 63,
     "metadata": {},
     "output_type": "execute_result"
    }
   ],
   "source": [
    "#create an array of all even integers 10 to 50\n",
    "\n",
    "p = np.arange(10,51,2)\n",
    "p"
   ]
  },
  {
   "cell_type": "code",
   "execution_count": 64,
   "id": "16871b45",
   "metadata": {},
   "outputs": [
    {
     "data": {
      "text/plain": [
       "array([[0, 1, 2],\n",
       "       [3, 4, 5],\n",
       "       [6, 7, 8]])"
      ]
     },
     "execution_count": 64,
     "metadata": {},
     "output_type": "execute_result"
    }
   ],
   "source": [
    "#create a 3x3 matrix with he value range 0 to 8\n",
    "\n",
    "p = np.arange(9).reshape(3,3)\n",
    "p"
   ]
  },
  {
   "cell_type": "code",
   "execution_count": 65,
   "id": "56d3e0da",
   "metadata": {},
   "outputs": [
    {
     "data": {
      "text/plain": [
       "array([[1., 0., 0.],\n",
       "       [0., 1., 0.],\n",
       "       [0., 0., 1.]])"
      ]
     },
     "execution_count": 65,
     "metadata": {},
     "output_type": "execute_result"
    }
   ],
   "source": [
    "#create a 3x3 identity matrix\n",
    "\n",
    "p = np.eye(3)\n",
    "p"
   ]
  },
  {
   "cell_type": "code",
   "execution_count": 68,
   "id": "3b49e558",
   "metadata": {},
   "outputs": [
    {
     "data": {
      "text/plain": [
       "array([0.82534754])"
      ]
     },
     "execution_count": 68,
     "metadata": {},
     "output_type": "execute_result"
    }
   ],
   "source": [
    "#generate a random numbers  0 to 1\n",
    "\n",
    "p = np.random.rand(1)\n",
    "p"
   ]
  },
  {
   "cell_type": "code",
   "execution_count": 69,
   "id": "eb3db508",
   "metadata": {},
   "outputs": [
    {
     "data": {
      "text/plain": [
       "array([-1.76660464, -0.94561129,  1.91893163, -2.09663978,  0.41537184,\n",
       "        0.63181957, -0.36152677,  0.54773371, -0.55302511, -0.57015131,\n",
       "        0.55475473, -0.13418215, -0.30834223, -2.42074183, -0.36399274,\n",
       "        0.29148803,  0.93495391,  0.82542546,  0.80505183, -0.68431988,\n",
       "       -0.60460316, -0.83413838, -0.50374447,  1.35760437,  0.90306922])"
      ]
     },
     "execution_count": 69,
     "metadata": {},
     "output_type": "execute_result"
    }
   ],
   "source": [
    "#generate 25 numbers from standard deviation distribution\n",
    "\n",
    "p = np.random.randn(25)\n",
    "p"
   ]
  },
  {
   "cell_type": "code",
   "execution_count": 70,
   "id": "216019d3",
   "metadata": {},
   "outputs": [
    {
     "data": {
      "text/plain": [
       "array([0.        , 0.05263158, 0.10526316, 0.15789474, 0.21052632,\n",
       "       0.26315789, 0.31578947, 0.36842105, 0.42105263, 0.47368421,\n",
       "       0.52631579, 0.57894737, 0.63157895, 0.68421053, 0.73684211,\n",
       "       0.78947368, 0.84210526, 0.89473684, 0.94736842, 1.        ])"
      ]
     },
     "execution_count": 70,
     "metadata": {},
     "output_type": "execute_result"
    }
   ],
   "source": [
    "#create an array 20 line spaced points b/w 0 & 1\n",
    "\n",
    "p = np.linspace(0,1,20)\n",
    "p"
   ]
  }
 ],
 "metadata": {
  "kernelspec": {
   "display_name": "Python 3 (ipykernel)",
   "language": "python",
   "name": "python3"
  },
  "language_info": {
   "codemirror_mode": {
    "name": "ipython",
    "version": 3
   },
   "file_extension": ".py",
   "mimetype": "text/x-python",
   "name": "python",
   "nbconvert_exporter": "python",
   "pygments_lexer": "ipython3",
   "version": "3.9.5"
  }
 },
 "nbformat": 4,
 "nbformat_minor": 5
}
